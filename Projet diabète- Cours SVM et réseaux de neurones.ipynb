{
 "cells": [
  {
   "cell_type": "markdown",
   "id": "2469d405",
   "metadata": {},
   "source": [
    "# PROJET SVM ET RÉSEAUX DE NEURONNES : PRÉDICTION DU DIABÈTE CHEZ UNE PERSONNE "
   ]
  },
  {
   "cell_type": "markdown",
   "id": "a249c8ce",
   "metadata": {},
   "source": [
    "Notre projet se porte sur la prédiction du diabète chez une personne . Pour cela , nous nous sommes munies d'une base de données de plus de 5000 observations et de 18 variables. Tout d'abord , nous allons passer au nettoyage de la base de données , ensuite à l'analyse descriptive des données et enfin aux méthodes de prédictions de la base de données. "
   ]
  },
  {
   "cell_type": "markdown",
   "id": "315f76a6",
   "metadata": {},
   "source": [
    "1 . Nettoyage de la base de données "
   ]
  },
  {
   "cell_type": "code",
   "execution_count": 1,
   "id": "b2411ccb",
   "metadata": {},
   "outputs": [],
   "source": [
    "# Importation des packages \n",
    "import pandas as pd \n",
    "import numpy as np\n",
    "\n",
    "# Importation de graphiques\n",
    "import seaborn as sns\n",
    "import matplotlib.pyplot as plt\n",
    "\n",
    "# Importation de séparateurs \n",
    "\n",
    "from sklearn.model_selection import train_test_split\n",
    "\n",
    "from sklearn.preprocessing import StandardScaler\n",
    "\n",
    "#Modélisation \n",
    "\n",
    "#Classifier\n",
    "from sklearn.svm import SVC\n",
    "from sklearn.svm import LinearSVC \n",
    "from sklearn.linear_model import SGDClassifier , LogisticRegression\n",
    "\n",
    "#Metrics\n",
    "from sklearn.metrics import accuracy_score, confusion_matrix, classification_report,f1_score\n",
    "#Eval\n",
    "from sklearn.model_selection import cross_val_score ,learning_curve ,GridSearchCV\n",
    "from sklearn_evaluation import plot\n",
    "\n",
    "\n",
    "\n"
   ]
  },
  {
   "cell_type": "code",
   "execution_count": 2,
   "id": "125bacdb",
   "metadata": {},
   "outputs": [],
   "source": [
    "path =\"/Users/keitasita/Desktop/diabetes_data .csv\""
   ]
  },
  {
   "cell_type": "code",
   "execution_count": 3,
   "id": "12830d03",
   "metadata": {},
   "outputs": [],
   "source": [
    "# importation de la base de donnée \n",
    "diabetes = pd.read_csv(path, sep = \";\")"
   ]
  },
  {
   "cell_type": "code",
   "execution_count": 4,
   "id": "9e1dde33",
   "metadata": {},
   "outputs": [
    {
     "data": {
      "text/html": [
       "<div>\n",
       "<style scoped>\n",
       "    .dataframe tbody tr th:only-of-type {\n",
       "        vertical-align: middle;\n",
       "    }\n",
       "\n",
       "    .dataframe tbody tr th {\n",
       "        vertical-align: top;\n",
       "    }\n",
       "\n",
       "    .dataframe thead th {\n",
       "        text-align: right;\n",
       "    }\n",
       "</style>\n",
       "<table border=\"1\" class=\"dataframe\">\n",
       "  <thead>\n",
       "    <tr style=\"text-align: right;\">\n",
       "      <th></th>\n",
       "      <th>Age</th>\n",
       "      <th>Sex</th>\n",
       "      <th>HighChol</th>\n",
       "      <th>CholCheck</th>\n",
       "      <th>BMI</th>\n",
       "      <th>Smoker</th>\n",
       "      <th>HeartDiseaseorAttack</th>\n",
       "      <th>PhysActivity</th>\n",
       "      <th>Fruits</th>\n",
       "      <th>Veggies</th>\n",
       "      <th>HvyAlcoholConsump</th>\n",
       "      <th>GenHlth</th>\n",
       "      <th>MentHlth</th>\n",
       "      <th>PhysHlth</th>\n",
       "      <th>DiffWalk</th>\n",
       "      <th>Stroke</th>\n",
       "      <th>HighBP</th>\n",
       "      <th>Diabetes</th>\n",
       "    </tr>\n",
       "  </thead>\n",
       "  <tbody>\n",
       "    <tr>\n",
       "      <th>0</th>\n",
       "      <td>4.0</td>\n",
       "      <td>1.0</td>\n",
       "      <td>0.0</td>\n",
       "      <td>1.0</td>\n",
       "      <td>26.0</td>\n",
       "      <td>0.0</td>\n",
       "      <td>0.0</td>\n",
       "      <td>1.0</td>\n",
       "      <td>0.0</td>\n",
       "      <td>1.0</td>\n",
       "      <td>0.0</td>\n",
       "      <td>3.0</td>\n",
       "      <td>5.0</td>\n",
       "      <td>30.0</td>\n",
       "      <td>0.0</td>\n",
       "      <td>0.0</td>\n",
       "      <td>1.0</td>\n",
       "      <td>0.0</td>\n",
       "    </tr>\n",
       "    <tr>\n",
       "      <th>1</th>\n",
       "      <td>12.0</td>\n",
       "      <td>1.0</td>\n",
       "      <td>1.0</td>\n",
       "      <td>1.0</td>\n",
       "      <td>26.0</td>\n",
       "      <td>1.0</td>\n",
       "      <td>0.0</td>\n",
       "      <td>0.0</td>\n",
       "      <td>1.0</td>\n",
       "      <td>0.0</td>\n",
       "      <td>0.0</td>\n",
       "      <td>3.0</td>\n",
       "      <td>0.0</td>\n",
       "      <td>0.0</td>\n",
       "      <td>0.0</td>\n",
       "      <td>1.0</td>\n",
       "      <td>1.0</td>\n",
       "      <td>0.0</td>\n",
       "    </tr>\n",
       "    <tr>\n",
       "      <th>2</th>\n",
       "      <td>13.0</td>\n",
       "      <td>1.0</td>\n",
       "      <td>0.0</td>\n",
       "      <td>1.0</td>\n",
       "      <td>26.0</td>\n",
       "      <td>0.0</td>\n",
       "      <td>0.0</td>\n",
       "      <td>1.0</td>\n",
       "      <td>1.0</td>\n",
       "      <td>1.0</td>\n",
       "      <td>0.0</td>\n",
       "      <td>1.0</td>\n",
       "      <td>0.0</td>\n",
       "      <td>10.0</td>\n",
       "      <td>0.0</td>\n",
       "      <td>0.0</td>\n",
       "      <td>0.0</td>\n",
       "      <td>0.0</td>\n",
       "    </tr>\n",
       "    <tr>\n",
       "      <th>3</th>\n",
       "      <td>11.0</td>\n",
       "      <td>1.0</td>\n",
       "      <td>1.0</td>\n",
       "      <td>1.0</td>\n",
       "      <td>28.0</td>\n",
       "      <td>1.0</td>\n",
       "      <td>0.0</td>\n",
       "      <td>1.0</td>\n",
       "      <td>1.0</td>\n",
       "      <td>1.0</td>\n",
       "      <td>0.0</td>\n",
       "      <td>3.0</td>\n",
       "      <td>0.0</td>\n",
       "      <td>3.0</td>\n",
       "      <td>0.0</td>\n",
       "      <td>0.0</td>\n",
       "      <td>1.0</td>\n",
       "      <td>0.0</td>\n",
       "    </tr>\n",
       "    <tr>\n",
       "      <th>4</th>\n",
       "      <td>8.0</td>\n",
       "      <td>0.0</td>\n",
       "      <td>0.0</td>\n",
       "      <td>1.0</td>\n",
       "      <td>29.0</td>\n",
       "      <td>1.0</td>\n",
       "      <td>0.0</td>\n",
       "      <td>1.0</td>\n",
       "      <td>1.0</td>\n",
       "      <td>1.0</td>\n",
       "      <td>0.0</td>\n",
       "      <td>2.0</td>\n",
       "      <td>0.0</td>\n",
       "      <td>0.0</td>\n",
       "      <td>0.0</td>\n",
       "      <td>0.0</td>\n",
       "      <td>0.0</td>\n",
       "      <td>0.0</td>\n",
       "    </tr>\n",
       "    <tr>\n",
       "      <th>...</th>\n",
       "      <td>...</td>\n",
       "      <td>...</td>\n",
       "      <td>...</td>\n",
       "      <td>...</td>\n",
       "      <td>...</td>\n",
       "      <td>...</td>\n",
       "      <td>...</td>\n",
       "      <td>...</td>\n",
       "      <td>...</td>\n",
       "      <td>...</td>\n",
       "      <td>...</td>\n",
       "      <td>...</td>\n",
       "      <td>...</td>\n",
       "      <td>...</td>\n",
       "      <td>...</td>\n",
       "      <td>...</td>\n",
       "      <td>...</td>\n",
       "      <td>...</td>\n",
       "    </tr>\n",
       "    <tr>\n",
       "      <th>70687</th>\n",
       "      <td>6.0</td>\n",
       "      <td>0.0</td>\n",
       "      <td>1.0</td>\n",
       "      <td>1.0</td>\n",
       "      <td>37.0</td>\n",
       "      <td>0.0</td>\n",
       "      <td>0.0</td>\n",
       "      <td>0.0</td>\n",
       "      <td>0.0</td>\n",
       "      <td>1.0</td>\n",
       "      <td>0.0</td>\n",
       "      <td>4.0</td>\n",
       "      <td>0.0</td>\n",
       "      <td>0.0</td>\n",
       "      <td>0.0</td>\n",
       "      <td>0.0</td>\n",
       "      <td>0.0</td>\n",
       "      <td>1.0</td>\n",
       "    </tr>\n",
       "    <tr>\n",
       "      <th>70688</th>\n",
       "      <td>10.0</td>\n",
       "      <td>1.0</td>\n",
       "      <td>1.0</td>\n",
       "      <td>1.0</td>\n",
       "      <td>29.0</td>\n",
       "      <td>1.0</td>\n",
       "      <td>1.0</td>\n",
       "      <td>0.0</td>\n",
       "      <td>1.0</td>\n",
       "      <td>1.0</td>\n",
       "      <td>0.0</td>\n",
       "      <td>2.0</td>\n",
       "      <td>0.0</td>\n",
       "      <td>0.0</td>\n",
       "      <td>1.0</td>\n",
       "      <td>0.0</td>\n",
       "      <td>0.0</td>\n",
       "      <td>1.0</td>\n",
       "    </tr>\n",
       "    <tr>\n",
       "      <th>70689</th>\n",
       "      <td>13.0</td>\n",
       "      <td>0.0</td>\n",
       "      <td>1.0</td>\n",
       "      <td>1.0</td>\n",
       "      <td>25.0</td>\n",
       "      <td>0.0</td>\n",
       "      <td>1.0</td>\n",
       "      <td>0.0</td>\n",
       "      <td>1.0</td>\n",
       "      <td>0.0</td>\n",
       "      <td>0.0</td>\n",
       "      <td>5.0</td>\n",
       "      <td>15.0</td>\n",
       "      <td>0.0</td>\n",
       "      <td>1.0</td>\n",
       "      <td>0.0</td>\n",
       "      <td>1.0</td>\n",
       "      <td>1.0</td>\n",
       "    </tr>\n",
       "    <tr>\n",
       "      <th>70690</th>\n",
       "      <td>11.0</td>\n",
       "      <td>0.0</td>\n",
       "      <td>1.0</td>\n",
       "      <td>1.0</td>\n",
       "      <td>18.0</td>\n",
       "      <td>0.0</td>\n",
       "      <td>0.0</td>\n",
       "      <td>0.0</td>\n",
       "      <td>0.0</td>\n",
       "      <td>0.0</td>\n",
       "      <td>0.0</td>\n",
       "      <td>4.0</td>\n",
       "      <td>0.0</td>\n",
       "      <td>0.0</td>\n",
       "      <td>1.0</td>\n",
       "      <td>0.0</td>\n",
       "      <td>1.0</td>\n",
       "      <td>1.0</td>\n",
       "    </tr>\n",
       "    <tr>\n",
       "      <th>70691</th>\n",
       "      <td>9.0</td>\n",
       "      <td>0.0</td>\n",
       "      <td>1.0</td>\n",
       "      <td>1.0</td>\n",
       "      <td>25.0</td>\n",
       "      <td>0.0</td>\n",
       "      <td>1.0</td>\n",
       "      <td>1.0</td>\n",
       "      <td>1.0</td>\n",
       "      <td>0.0</td>\n",
       "      <td>0.0</td>\n",
       "      <td>2.0</td>\n",
       "      <td>0.0</td>\n",
       "      <td>0.0</td>\n",
       "      <td>0.0</td>\n",
       "      <td>0.0</td>\n",
       "      <td>1.0</td>\n",
       "      <td>1.0</td>\n",
       "    </tr>\n",
       "  </tbody>\n",
       "</table>\n",
       "<p>70692 rows × 18 columns</p>\n",
       "</div>"
      ],
      "text/plain": [
       "        Age  Sex  HighChol  CholCheck   BMI  Smoker  HeartDiseaseorAttack  \\\n",
       "0       4.0  1.0       0.0        1.0  26.0     0.0                   0.0   \n",
       "1      12.0  1.0       1.0        1.0  26.0     1.0                   0.0   \n",
       "2      13.0  1.0       0.0        1.0  26.0     0.0                   0.0   \n",
       "3      11.0  1.0       1.0        1.0  28.0     1.0                   0.0   \n",
       "4       8.0  0.0       0.0        1.0  29.0     1.0                   0.0   \n",
       "...     ...  ...       ...        ...   ...     ...                   ...   \n",
       "70687   6.0  0.0       1.0        1.0  37.0     0.0                   0.0   \n",
       "70688  10.0  1.0       1.0        1.0  29.0     1.0                   1.0   \n",
       "70689  13.0  0.0       1.0        1.0  25.0     0.0                   1.0   \n",
       "70690  11.0  0.0       1.0        1.0  18.0     0.0                   0.0   \n",
       "70691   9.0  0.0       1.0        1.0  25.0     0.0                   1.0   \n",
       "\n",
       "       PhysActivity  Fruits  Veggies  HvyAlcoholConsump  GenHlth  MentHlth  \\\n",
       "0               1.0     0.0      1.0                0.0      3.0       5.0   \n",
       "1               0.0     1.0      0.0                0.0      3.0       0.0   \n",
       "2               1.0     1.0      1.0                0.0      1.0       0.0   \n",
       "3               1.0     1.0      1.0                0.0      3.0       0.0   \n",
       "4               1.0     1.0      1.0                0.0      2.0       0.0   \n",
       "...             ...     ...      ...                ...      ...       ...   \n",
       "70687           0.0     0.0      1.0                0.0      4.0       0.0   \n",
       "70688           0.0     1.0      1.0                0.0      2.0       0.0   \n",
       "70689           0.0     1.0      0.0                0.0      5.0      15.0   \n",
       "70690           0.0     0.0      0.0                0.0      4.0       0.0   \n",
       "70691           1.0     1.0      0.0                0.0      2.0       0.0   \n",
       "\n",
       "       PhysHlth  DiffWalk  Stroke  HighBP  Diabetes  \n",
       "0          30.0       0.0     0.0     1.0       0.0  \n",
       "1           0.0       0.0     1.0     1.0       0.0  \n",
       "2          10.0       0.0     0.0     0.0       0.0  \n",
       "3           3.0       0.0     0.0     1.0       0.0  \n",
       "4           0.0       0.0     0.0     0.0       0.0  \n",
       "...         ...       ...     ...     ...       ...  \n",
       "70687       0.0       0.0     0.0     0.0       1.0  \n",
       "70688       0.0       1.0     0.0     0.0       1.0  \n",
       "70689       0.0       1.0     0.0     1.0       1.0  \n",
       "70690       0.0       1.0     0.0     1.0       1.0  \n",
       "70691       0.0       0.0     0.0     1.0       1.0  \n",
       "\n",
       "[70692 rows x 18 columns]"
      ]
     },
     "execution_count": 4,
     "metadata": {},
     "output_type": "execute_result"
    }
   ],
   "source": [
    "diabetes"
   ]
  },
  {
   "cell_type": "code",
   "execution_count": 5,
   "id": "d8b0e3bc",
   "metadata": {},
   "outputs": [],
   "source": [
    "diabetes = diabetes.drop(columns=['Stroke','HighBP'],axis=1) # Comme c'est la prédiction du diabètes"
   ]
  },
  {
   "cell_type": "code",
   "execution_count": 6,
   "id": "b4d0187e",
   "metadata": {},
   "outputs": [
    {
     "data": {
      "text/html": [
       "<div>\n",
       "<style scoped>\n",
       "    .dataframe tbody tr th:only-of-type {\n",
       "        vertical-align: middle;\n",
       "    }\n",
       "\n",
       "    .dataframe tbody tr th {\n",
       "        vertical-align: top;\n",
       "    }\n",
       "\n",
       "    .dataframe thead th {\n",
       "        text-align: right;\n",
       "    }\n",
       "</style>\n",
       "<table border=\"1\" class=\"dataframe\">\n",
       "  <thead>\n",
       "    <tr style=\"text-align: right;\">\n",
       "      <th></th>\n",
       "      <th>Age</th>\n",
       "      <th>Sex</th>\n",
       "      <th>HighChol</th>\n",
       "      <th>CholCheck</th>\n",
       "      <th>BMI</th>\n",
       "      <th>Smoker</th>\n",
       "      <th>HeartDiseaseorAttack</th>\n",
       "      <th>PhysActivity</th>\n",
       "      <th>Fruits</th>\n",
       "      <th>Veggies</th>\n",
       "      <th>HvyAlcoholConsump</th>\n",
       "      <th>GenHlth</th>\n",
       "      <th>MentHlth</th>\n",
       "      <th>PhysHlth</th>\n",
       "      <th>DiffWalk</th>\n",
       "      <th>Diabetes</th>\n",
       "    </tr>\n",
       "  </thead>\n",
       "  <tbody>\n",
       "    <tr>\n",
       "      <th>0</th>\n",
       "      <td>4.0</td>\n",
       "      <td>1.0</td>\n",
       "      <td>0.0</td>\n",
       "      <td>1.0</td>\n",
       "      <td>26.0</td>\n",
       "      <td>0.0</td>\n",
       "      <td>0.0</td>\n",
       "      <td>1.0</td>\n",
       "      <td>0.0</td>\n",
       "      <td>1.0</td>\n",
       "      <td>0.0</td>\n",
       "      <td>3.0</td>\n",
       "      <td>5.0</td>\n",
       "      <td>30.0</td>\n",
       "      <td>0.0</td>\n",
       "      <td>0.0</td>\n",
       "    </tr>\n",
       "    <tr>\n",
       "      <th>1</th>\n",
       "      <td>12.0</td>\n",
       "      <td>1.0</td>\n",
       "      <td>1.0</td>\n",
       "      <td>1.0</td>\n",
       "      <td>26.0</td>\n",
       "      <td>1.0</td>\n",
       "      <td>0.0</td>\n",
       "      <td>0.0</td>\n",
       "      <td>1.0</td>\n",
       "      <td>0.0</td>\n",
       "      <td>0.0</td>\n",
       "      <td>3.0</td>\n",
       "      <td>0.0</td>\n",
       "      <td>0.0</td>\n",
       "      <td>0.0</td>\n",
       "      <td>0.0</td>\n",
       "    </tr>\n",
       "    <tr>\n",
       "      <th>2</th>\n",
       "      <td>13.0</td>\n",
       "      <td>1.0</td>\n",
       "      <td>0.0</td>\n",
       "      <td>1.0</td>\n",
       "      <td>26.0</td>\n",
       "      <td>0.0</td>\n",
       "      <td>0.0</td>\n",
       "      <td>1.0</td>\n",
       "      <td>1.0</td>\n",
       "      <td>1.0</td>\n",
       "      <td>0.0</td>\n",
       "      <td>1.0</td>\n",
       "      <td>0.0</td>\n",
       "      <td>10.0</td>\n",
       "      <td>0.0</td>\n",
       "      <td>0.0</td>\n",
       "    </tr>\n",
       "    <tr>\n",
       "      <th>3</th>\n",
       "      <td>11.0</td>\n",
       "      <td>1.0</td>\n",
       "      <td>1.0</td>\n",
       "      <td>1.0</td>\n",
       "      <td>28.0</td>\n",
       "      <td>1.0</td>\n",
       "      <td>0.0</td>\n",
       "      <td>1.0</td>\n",
       "      <td>1.0</td>\n",
       "      <td>1.0</td>\n",
       "      <td>0.0</td>\n",
       "      <td>3.0</td>\n",
       "      <td>0.0</td>\n",
       "      <td>3.0</td>\n",
       "      <td>0.0</td>\n",
       "      <td>0.0</td>\n",
       "    </tr>\n",
       "    <tr>\n",
       "      <th>4</th>\n",
       "      <td>8.0</td>\n",
       "      <td>0.0</td>\n",
       "      <td>0.0</td>\n",
       "      <td>1.0</td>\n",
       "      <td>29.0</td>\n",
       "      <td>1.0</td>\n",
       "      <td>0.0</td>\n",
       "      <td>1.0</td>\n",
       "      <td>1.0</td>\n",
       "      <td>1.0</td>\n",
       "      <td>0.0</td>\n",
       "      <td>2.0</td>\n",
       "      <td>0.0</td>\n",
       "      <td>0.0</td>\n",
       "      <td>0.0</td>\n",
       "      <td>0.0</td>\n",
       "    </tr>\n",
       "    <tr>\n",
       "      <th>...</th>\n",
       "      <td>...</td>\n",
       "      <td>...</td>\n",
       "      <td>...</td>\n",
       "      <td>...</td>\n",
       "      <td>...</td>\n",
       "      <td>...</td>\n",
       "      <td>...</td>\n",
       "      <td>...</td>\n",
       "      <td>...</td>\n",
       "      <td>...</td>\n",
       "      <td>...</td>\n",
       "      <td>...</td>\n",
       "      <td>...</td>\n",
       "      <td>...</td>\n",
       "      <td>...</td>\n",
       "      <td>...</td>\n",
       "    </tr>\n",
       "    <tr>\n",
       "      <th>70687</th>\n",
       "      <td>6.0</td>\n",
       "      <td>0.0</td>\n",
       "      <td>1.0</td>\n",
       "      <td>1.0</td>\n",
       "      <td>37.0</td>\n",
       "      <td>0.0</td>\n",
       "      <td>0.0</td>\n",
       "      <td>0.0</td>\n",
       "      <td>0.0</td>\n",
       "      <td>1.0</td>\n",
       "      <td>0.0</td>\n",
       "      <td>4.0</td>\n",
       "      <td>0.0</td>\n",
       "      <td>0.0</td>\n",
       "      <td>0.0</td>\n",
       "      <td>1.0</td>\n",
       "    </tr>\n",
       "    <tr>\n",
       "      <th>70688</th>\n",
       "      <td>10.0</td>\n",
       "      <td>1.0</td>\n",
       "      <td>1.0</td>\n",
       "      <td>1.0</td>\n",
       "      <td>29.0</td>\n",
       "      <td>1.0</td>\n",
       "      <td>1.0</td>\n",
       "      <td>0.0</td>\n",
       "      <td>1.0</td>\n",
       "      <td>1.0</td>\n",
       "      <td>0.0</td>\n",
       "      <td>2.0</td>\n",
       "      <td>0.0</td>\n",
       "      <td>0.0</td>\n",
       "      <td>1.0</td>\n",
       "      <td>1.0</td>\n",
       "    </tr>\n",
       "    <tr>\n",
       "      <th>70689</th>\n",
       "      <td>13.0</td>\n",
       "      <td>0.0</td>\n",
       "      <td>1.0</td>\n",
       "      <td>1.0</td>\n",
       "      <td>25.0</td>\n",
       "      <td>0.0</td>\n",
       "      <td>1.0</td>\n",
       "      <td>0.0</td>\n",
       "      <td>1.0</td>\n",
       "      <td>0.0</td>\n",
       "      <td>0.0</td>\n",
       "      <td>5.0</td>\n",
       "      <td>15.0</td>\n",
       "      <td>0.0</td>\n",
       "      <td>1.0</td>\n",
       "      <td>1.0</td>\n",
       "    </tr>\n",
       "    <tr>\n",
       "      <th>70690</th>\n",
       "      <td>11.0</td>\n",
       "      <td>0.0</td>\n",
       "      <td>1.0</td>\n",
       "      <td>1.0</td>\n",
       "      <td>18.0</td>\n",
       "      <td>0.0</td>\n",
       "      <td>0.0</td>\n",
       "      <td>0.0</td>\n",
       "      <td>0.0</td>\n",
       "      <td>0.0</td>\n",
       "      <td>0.0</td>\n",
       "      <td>4.0</td>\n",
       "      <td>0.0</td>\n",
       "      <td>0.0</td>\n",
       "      <td>1.0</td>\n",
       "      <td>1.0</td>\n",
       "    </tr>\n",
       "    <tr>\n",
       "      <th>70691</th>\n",
       "      <td>9.0</td>\n",
       "      <td>0.0</td>\n",
       "      <td>1.0</td>\n",
       "      <td>1.0</td>\n",
       "      <td>25.0</td>\n",
       "      <td>0.0</td>\n",
       "      <td>1.0</td>\n",
       "      <td>1.0</td>\n",
       "      <td>1.0</td>\n",
       "      <td>0.0</td>\n",
       "      <td>0.0</td>\n",
       "      <td>2.0</td>\n",
       "      <td>0.0</td>\n",
       "      <td>0.0</td>\n",
       "      <td>0.0</td>\n",
       "      <td>1.0</td>\n",
       "    </tr>\n",
       "  </tbody>\n",
       "</table>\n",
       "<p>70692 rows × 16 columns</p>\n",
       "</div>"
      ],
      "text/plain": [
       "        Age  Sex  HighChol  CholCheck   BMI  Smoker  HeartDiseaseorAttack  \\\n",
       "0       4.0  1.0       0.0        1.0  26.0     0.0                   0.0   \n",
       "1      12.0  1.0       1.0        1.0  26.0     1.0                   0.0   \n",
       "2      13.0  1.0       0.0        1.0  26.0     0.0                   0.0   \n",
       "3      11.0  1.0       1.0        1.0  28.0     1.0                   0.0   \n",
       "4       8.0  0.0       0.0        1.0  29.0     1.0                   0.0   \n",
       "...     ...  ...       ...        ...   ...     ...                   ...   \n",
       "70687   6.0  0.0       1.0        1.0  37.0     0.0                   0.0   \n",
       "70688  10.0  1.0       1.0        1.0  29.0     1.0                   1.0   \n",
       "70689  13.0  0.0       1.0        1.0  25.0     0.0                   1.0   \n",
       "70690  11.0  0.0       1.0        1.0  18.0     0.0                   0.0   \n",
       "70691   9.0  0.0       1.0        1.0  25.0     0.0                   1.0   \n",
       "\n",
       "       PhysActivity  Fruits  Veggies  HvyAlcoholConsump  GenHlth  MentHlth  \\\n",
       "0               1.0     0.0      1.0                0.0      3.0       5.0   \n",
       "1               0.0     1.0      0.0                0.0      3.0       0.0   \n",
       "2               1.0     1.0      1.0                0.0      1.0       0.0   \n",
       "3               1.0     1.0      1.0                0.0      3.0       0.0   \n",
       "4               1.0     1.0      1.0                0.0      2.0       0.0   \n",
       "...             ...     ...      ...                ...      ...       ...   \n",
       "70687           0.0     0.0      1.0                0.0      4.0       0.0   \n",
       "70688           0.0     1.0      1.0                0.0      2.0       0.0   \n",
       "70689           0.0     1.0      0.0                0.0      5.0      15.0   \n",
       "70690           0.0     0.0      0.0                0.0      4.0       0.0   \n",
       "70691           1.0     1.0      0.0                0.0      2.0       0.0   \n",
       "\n",
       "       PhysHlth  DiffWalk  Diabetes  \n",
       "0          30.0       0.0       0.0  \n",
       "1           0.0       0.0       0.0  \n",
       "2          10.0       0.0       0.0  \n",
       "3           3.0       0.0       0.0  \n",
       "4           0.0       0.0       0.0  \n",
       "...         ...       ...       ...  \n",
       "70687       0.0       0.0       1.0  \n",
       "70688       0.0       1.0       1.0  \n",
       "70689       0.0       1.0       1.0  \n",
       "70690       0.0       1.0       1.0  \n",
       "70691       0.0       0.0       1.0  \n",
       "\n",
       "[70692 rows x 16 columns]"
      ]
     },
     "execution_count": 6,
     "metadata": {},
     "output_type": "execute_result"
    }
   ],
   "source": [
    "diabetes"
   ]
  },
  {
   "cell_type": "markdown",
   "id": "de9a6b3f",
   "metadata": {},
   "source": [
    "Nous avons 16 features variables et 70692 observations. La variable target est Diabetes . C'est une variable binaire . La variable montre si une personne a le diabète ou non. Dans les 15 features restantes , il existe d'autres variables binaires et des variables catégorielles. Une seule variable est quantitative. "
   ]
  },
  {
   "cell_type": "code",
   "execution_count": 7,
   "id": "aeb531fe",
   "metadata": {},
   "outputs": [
    {
     "name": "stdout",
     "output_type": "stream",
     "text": [
      "<class 'pandas.core.frame.DataFrame'>\n",
      "RangeIndex: 70692 entries, 0 to 70691\n",
      "Data columns (total 16 columns):\n",
      " #   Column                Non-Null Count  Dtype  \n",
      "---  ------                --------------  -----  \n",
      " 0   Age                   70692 non-null  float64\n",
      " 1   Sex                   70692 non-null  float64\n",
      " 2   HighChol              70692 non-null  float64\n",
      " 3   CholCheck             70692 non-null  float64\n",
      " 4   BMI                   70692 non-null  float64\n",
      " 5   Smoker                70692 non-null  float64\n",
      " 6   HeartDiseaseorAttack  70692 non-null  float64\n",
      " 7   PhysActivity          70692 non-null  float64\n",
      " 8   Fruits                70692 non-null  float64\n",
      " 9   Veggies               70692 non-null  float64\n",
      " 10  HvyAlcoholConsump     70692 non-null  float64\n",
      " 11  GenHlth               70692 non-null  float64\n",
      " 12  MentHlth              70692 non-null  float64\n",
      " 13  PhysHlth              70692 non-null  float64\n",
      " 14  DiffWalk              70692 non-null  float64\n",
      " 15  Diabetes              70692 non-null  float64\n",
      "dtypes: float64(16)\n",
      "memory usage: 8.6 MB\n"
     ]
    }
   ],
   "source": [
    "diabetes.info()# les catégoires des variables "
   ]
  },
  {
   "cell_type": "markdown",
   "id": "75757d0b",
   "metadata": {},
   "source": [
    "Les variables n'ont pas été converties dans lors bon format. Il faut recoder toutes les variables dans leur bon format."
   ]
  },
  {
   "cell_type": "code",
   "execution_count": 8,
   "id": "e94770bb",
   "metadata": {},
   "outputs": [],
   "source": [
    "diabetes['Age']=diabetes.Age.astype('object')\n",
    "diabetes['Sex']=diabetes.Sex.astype('object')\n",
    "diabetes['HighChol']=diabetes.HighChol.astype('object')\n",
    "diabetes['CholCheck']=diabetes.CholCheck.astype('object')\n",
    "diabetes['BMI']=diabetes.BMI.astype('float64')\n",
    "diabetes['Smoker']=diabetes.Smoker.astype('object')\n",
    "diabetes['HeartDiseaseorAttack']=diabetes.HeartDiseaseorAttack.astype('object')\n",
    "diabetes['PhysActivity']=diabetes.PhysActivity.astype('object')\n",
    "diabetes['Fruits']=diabetes.Fruits.astype('object')\n",
    "diabetes['Veggies']=diabetes.Veggies.astype('object')\n",
    "diabetes['HvyAlcoholConsump']=diabetes.HvyAlcoholConsump.astype('object')\n",
    "diabetes['GenHlth']=diabetes.GenHlth.astype('object')\n",
    "diabetes['MentHlth']=diabetes.MentHlth.astype('object')\n",
    "diabetes['PhysHlth']=diabetes.PhysHlth.astype('object')\n",
    "diabetes['DiffWalk']=diabetes.DiffWalk.astype('object')\n",
    "diabetes['Diabetes']=diabetes.Diabetes.astype('object')"
   ]
  },
  {
   "cell_type": "code",
   "execution_count": 9,
   "id": "6afdcbd8",
   "metadata": {},
   "outputs": [
    {
     "data": {
      "text/plain": [
       "Age                     0\n",
       "Sex                     0\n",
       "HighChol                0\n",
       "CholCheck               0\n",
       "BMI                     0\n",
       "Smoker                  0\n",
       "HeartDiseaseorAttack    0\n",
       "PhysActivity            0\n",
       "Fruits                  0\n",
       "Veggies                 0\n",
       "HvyAlcoholConsump       0\n",
       "GenHlth                 0\n",
       "MentHlth                0\n",
       "PhysHlth                0\n",
       "DiffWalk                0\n",
       "Diabetes                0\n",
       "dtype: int64"
      ]
     },
     "execution_count": 9,
     "metadata": {},
     "output_type": "execute_result"
    }
   ],
   "source": [
    "# Vérification des valeurs nulles\n",
    "diabetes.isna().sum(axis=0)"
   ]
  },
  {
   "cell_type": "markdown",
   "id": "4e8bb110",
   "metadata": {},
   "source": [
    "Nous n'avons pas de valeurs manquantes dans notre dataset. "
   ]
  },
  {
   "cell_type": "markdown",
   "id": "c012a4c4",
   "metadata": {},
   "source": [
    "2 . STATISTIQUES DESCRIPTIVES DE LA BASE DE DONNÉES "
   ]
  },
  {
   "cell_type": "markdown",
   "id": "666e406a",
   "metadata": {},
   "source": [
    "        a_ Description de la variable à prédire "
   ]
  },
  {
   "cell_type": "code",
   "execution_count": 10,
   "id": "e67af393",
   "metadata": {},
   "outputs": [
    {
     "data": {
      "image/png": "[encoded data removed]",
      "text/plain": [
       "<Figure size 432x288 with 1 Axes>"
      ]
     },
     "metadata": {
      "needs_background": "light"
     },
     "output_type": "display_data"
    }
   ],
   "source": [
    "plt.bar(\n",
    "    diabetes.Diabetes.value_counts().index,\n",
    "     diabetes.Diabetes.value_counts().values\n",
    ")\n",
    "plt.title(\"Répartition de la variable à prédire\")\n",
    "plt.show()"
   ]
  },
  {
   "cell_type": "markdown",
   "id": "6fa010d1",
   "metadata": {},
   "source": [
    "Nous pouvons constater que notre variable à prédire est équilibrée. Il y'a autant de personnes qui sont diabétiques que celles qui ne le sont pas. Soit 35346 personnes pour chaque éventualité. "
   ]
  },
  {
   "cell_type": "markdown",
   "id": "216daad7",
   "metadata": {},
   "source": [
    "Nous allons maitenant regarder la relation la variable à prédire avec quelques variables explicatives quantitatives "
   ]
  },
  {
   "cell_type": "code",
   "execution_count": 11,
   "id": "b6c1ad7a",
   "metadata": {},
   "outputs": [
    {
     "name": "stderr",
     "output_type": "stream",
     "text": [
      "/Users/keitasita/opt/anaconda3/lib/python3.8/site-packages/seaborn/categorical.py:3714: UserWarning: The `factorplot` function has been renamed to `catplot`. The original name will be removed in a future release. Please update your code. Note that the default `kind` in `factorplot` (`'point'`) has changed `'strip'` in `catplot`.\n",
      "  warnings.warn(msg)\n"
     ]
    },
    {
     "data": {
      "text/plain": [
       "<seaborn.axisgrid.FacetGrid at 0x11f0cc9d0>"
      ]
     },
     "execution_count": 11,
     "metadata": {},
     "output_type": "execute_result"
    },
    {
     "data": {
      "image/png": "[encoded data removed]",
      "text/plain": [
       "<Figure size 412.375x360 with 1 Axes>"
      ]
     },
     "metadata": {
      "needs_background": "light"
     },
     "output_type": "display_data"
    }
   ],
   "source": [
    "sns.factorplot(x = \"Sex\", hue = \"Diabetes\", data = diabetes, kind = \"count\")"
   ]
  },
  {
   "cell_type": "markdown",
   "id": "b248155d",
   "metadata": {},
   "source": [
    " Il existe quand meme une différence entre les hommes et les femmes. En effet les femmes sont plus susceptibles de ne pas avoir le diabète que les hommes. Alors que les hommes ont plus de chance d'avir le diabète que les femmes."
   ]
  },
  {
   "cell_type": "code",
   "execution_count": 12,
   "id": "c8ad3b5f",
   "metadata": {},
   "outputs": [
    {
     "name": "stderr",
     "output_type": "stream",
     "text": [
      "/Users/keitasita/opt/anaconda3/lib/python3.8/site-packages/seaborn/categorical.py:3714: UserWarning: The `factorplot` function has been renamed to `catplot`. The original name will be removed in a future release. Please update your code. Note that the default `kind` in `factorplot` (`'point'`) has changed `'strip'` in `catplot`.\n",
      "  warnings.warn(msg)\n"
     ]
    },
    {
     "data": {
      "text/plain": [
       "<seaborn.axisgrid.FacetGrid at 0x1227f0400>"
      ]
     },
     "execution_count": 12,
     "metadata": {},
     "output_type": "execute_result"
    },
    {
     "data": {
      "image/png": "[encoded data removed]",
      "text/plain": [
       "<Figure size 412.375x360 with 1 Axes>"
      ]
     },
     "metadata": {
      "needs_background": "light"
     },
     "output_type": "display_data"
    }
   ],
   "source": [
    "sns.factorplot(x = \"PhysActivity\", hue = \"Diabetes\", data = diabetes, kind = \"count\")"
   ]
  },
  {
   "cell_type": "markdown",
   "id": "fad0e7c2",
   "metadata": {},
   "source": [
    "Il  y'a une relation négative entre l'activité physique au cours de 30 jours et le diabète. En effet , plus une personne fait du sport , moins elle a de chance d'avoir le diabète."
   ]
  },
  {
   "cell_type": "code",
   "execution_count": 13,
   "id": "f6a4abae",
   "metadata": {},
   "outputs": [
    {
     "name": "stderr",
     "output_type": "stream",
     "text": [
      "/Users/keitasita/opt/anaconda3/lib/python3.8/site-packages/seaborn/categorical.py:3714: UserWarning: The `factorplot` function has been renamed to `catplot`. The original name will be removed in a future release. Please update your code. Note that the default `kind` in `factorplot` (`'point'`) has changed `'strip'` in `catplot`.\n",
      "  warnings.warn(msg)\n"
     ]
    },
    {
     "data": {
      "text/plain": [
       "<seaborn.axisgrid.FacetGrid at 0x108dacd00>"
      ]
     },
     "execution_count": 13,
     "metadata": {},
     "output_type": "execute_result"
    },
    {
     "data": {
      "image/png": "[encoded data removed]",
      "text/plain": [
       "<Figure size 412.375x360 with 1 Axes>"
      ]
     },
     "metadata": {
      "needs_background": "light"
     },
     "output_type": "display_data"
    }
   ],
   "source": [
    "sns.factorplot(x = \"HighChol\", hue = \"Diabetes\", data = diabetes, kind = \"count\")"
   ]
  },
  {
   "cell_type": "markdown",
   "id": "a1a358f0",
   "metadata": {},
   "source": [
    "Il existe une relation positive netre les variables Diabetes et HighChol. Plus une personne a un haut niveau de cholestérol, plus celle-ci a de chance à avoir le diabète."
   ]
  },
  {
   "cell_type": "code",
   "execution_count": 14,
   "id": "112f0b05",
   "metadata": {},
   "outputs": [
    {
     "name": "stderr",
     "output_type": "stream",
     "text": [
      "/Users/keitasita/opt/anaconda3/lib/python3.8/site-packages/seaborn/categorical.py:3714: UserWarning: The `factorplot` function has been renamed to `catplot`. The original name will be removed in a future release. Please update your code. Note that the default `kind` in `factorplot` (`'point'`) has changed `'strip'` in `catplot`.\n",
      "  warnings.warn(msg)\n"
     ]
    },
    {
     "data": {
      "text/plain": [
       "<seaborn.axisgrid.FacetGrid at 0x1244a96a0>"
      ]
     },
     "execution_count": 14,
     "metadata": {},
     "output_type": "execute_result"
    },
    {
     "data": {
      "image/png": "[encoded data removed]",
      "text/plain": [
       "<Figure size 412.375x360 with 1 Axes>"
      ]
     },
     "metadata": {
      "needs_background": "light"
     },
     "output_type": "display_data"
    }
   ],
   "source": [
    "sns.factorplot(x = \"Smoker\", hue = \"Diabetes\", data = diabetes, kind = \"count\")"
   ]
  },
  {
   "cell_type": "markdown",
   "id": "29c422c4",
   "metadata": {},
   "source": [
    "Il existe un lien positif avec le fait de fumer au moins 100 cigarettes dans sa vie et avoir le diabète. Plus une personne n'a pas fumé 100 cigarettes dans sa vie , plus elle a de chance de pas avoir le diabète.\n"
   ]
  },
  {
   "cell_type": "markdown",
   "id": "b141854b",
   "metadata": {},
   "source": [
    "          b_ Descriptions des variables quantitatives"
   ]
  },
  {
   "cell_type": "code",
   "execution_count": 15,
   "id": "74882372",
   "metadata": {},
   "outputs": [
    {
     "data": {
      "text/html": [
       "<div>\n",
       "<style scoped>\n",
       "    .dataframe tbody tr th:only-of-type {\n",
       "        vertical-align: middle;\n",
       "    }\n",
       "\n",
       "    .dataframe tbody tr th {\n",
       "        vertical-align: top;\n",
       "    }\n",
       "\n",
       "    .dataframe thead th {\n",
       "        text-align: right;\n",
       "    }\n",
       "</style>\n",
       "<table border=\"1\" class=\"dataframe\">\n",
       "  <thead>\n",
       "    <tr style=\"text-align: right;\">\n",
       "      <th></th>\n",
       "      <th>BMI</th>\n",
       "    </tr>\n",
       "  </thead>\n",
       "  <tbody>\n",
       "    <tr>\n",
       "      <th>count</th>\n",
       "      <td>70692.000000</td>\n",
       "    </tr>\n",
       "    <tr>\n",
       "      <th>mean</th>\n",
       "      <td>29.856985</td>\n",
       "    </tr>\n",
       "    <tr>\n",
       "      <th>std</th>\n",
       "      <td>7.113954</td>\n",
       "    </tr>\n",
       "    <tr>\n",
       "      <th>min</th>\n",
       "      <td>12.000000</td>\n",
       "    </tr>\n",
       "    <tr>\n",
       "      <th>25%</th>\n",
       "      <td>25.000000</td>\n",
       "    </tr>\n",
       "    <tr>\n",
       "      <th>50%</th>\n",
       "      <td>29.000000</td>\n",
       "    </tr>\n",
       "    <tr>\n",
       "      <th>75%</th>\n",
       "      <td>33.000000</td>\n",
       "    </tr>\n",
       "    <tr>\n",
       "      <th>max</th>\n",
       "      <td>98.000000</td>\n",
       "    </tr>\n",
       "  </tbody>\n",
       "</table>\n",
       "</div>"
      ],
      "text/plain": [
       "                BMI\n",
       "count  70692.000000\n",
       "mean      29.856985\n",
       "std        7.113954\n",
       "min       12.000000\n",
       "25%       25.000000\n",
       "50%       29.000000\n",
       "75%       33.000000\n",
       "max       98.000000"
      ]
     },
     "execution_count": 15,
     "metadata": {},
     "output_type": "execute_result"
    }
   ],
   "source": [
    "diabetes.BMI.describe().to_frame()"
   ]
  },
  {
   "cell_type": "markdown",
   "id": "9952a37a",
   "metadata": {},
   "source": [
    "Dans notre échantillon , la moyenne de l'indice de masse corporelle est de 29,85. La valeur minimun est de 12 et la valeur maximun est de 98. 25% des personnes interrogées ont un IMC inférieur ou égale à 25 et les 75% ont ce dernier qui inférieur ou égal à 33. La moitié des personnes interrogées ont un IMC inférieur ou égal à 29. \n",
    "On peut dire que les personnes intérrogées sont généralement en situation de surpoids."
   ]
  },
  {
   "cell_type": "code",
   "execution_count": 16,
   "id": "85f552c8",
   "metadata": {},
   "outputs": [
    {
     "name": "stderr",
     "output_type": "stream",
     "text": [
      "/Users/keitasita/opt/anaconda3/lib/python3.8/site-packages/seaborn/distributions.py:2557: FutureWarning: `distplot` is a deprecated function and will be removed in a future version. Please adapt your code to use either `displot` (a figure-level function with similar flexibility) or `histplot` (an axes-level function for histograms).\n",
      "  warnings.warn(msg, FutureWarning)\n"
     ]
    },
    {
     "data": {
      "text/plain": [
       "<AxesSubplot:xlabel='BMI'>"
      ]
     },
     "execution_count": 16,
     "metadata": {},
     "output_type": "execute_result"
    },
    {
     "data": {
      "image/png": "[encoded data removed]",
      "text/plain": [
       "<Figure size 432x288 with 1 Axes>"
      ]
     },
     "metadata": {
      "needs_background": "light"
     },
     "output_type": "display_data"
    }
   ],
   "source": [
    " sns.distplot(diabetes.BMI, kde = False)"
   ]
  },
  {
   "cell_type": "markdown",
   "id": "4bbb6a1b",
   "metadata": {},
   "source": [
    "Nous avons une distribution asymétrique de la variable BMI. L'indice de masse corporelle a une asymétrie positive. "
   ]
  },
  {
   "cell_type": "code",
   "execution_count": 17,
   "id": "82574706",
   "metadata": {},
   "outputs": [
    {
     "name": "stderr",
     "output_type": "stream",
     "text": [
      "/Users/keitasita/opt/anaconda3/lib/python3.8/site-packages/seaborn/distributions.py:2557: FutureWarning: `distplot` is a deprecated function and will be removed in a future version. Please adapt your code to use either `displot` (a figure-level function with similar flexibility) or `histplot` (an axes-level function for histograms).\n",
      "  warnings.warn(msg, FutureWarning)\n",
      "/Users/keitasita/opt/anaconda3/lib/python3.8/site-packages/seaborn/distributions.py:2557: FutureWarning: `distplot` is a deprecated function and will be removed in a future version. Please adapt your code to use either `displot` (a figure-level function with similar flexibility) or `histplot` (an axes-level function for histograms).\n",
      "  warnings.warn(msg, FutureWarning)\n"
     ]
    },
    {
     "data": {
      "text/plain": [
       "<seaborn.axisgrid.FacetGrid at 0x11f26e0a0>"
      ]
     },
     "execution_count": 17,
     "metadata": {},
     "output_type": "execute_result"
    },
    {
     "data": {
      "image/png": "[encoded data removed]",
      "text/plain": [
       "<Figure size 216x432 with 2 Axes>"
      ]
     },
     "metadata": {
      "needs_background": "light"
     },
     "output_type": "display_data"
    }
   ],
   "source": [
    "p = sns.FacetGrid(diabetes, row = \"Diabetes\")\n",
    "p.map(sns.distplot, \"BMI\")"
   ]
  },
  {
   "cell_type": "markdown",
   "id": "cdce7781",
   "metadata": {},
   "source": [
    "La probabilité d'avoir le diabète est plus élevée si l'IMC est entre 25 et 50. De manière générale les diabétiques ont un fort IMC."
   ]
  },
  {
   "cell_type": "code",
   "execution_count": 18,
   "id": "09492f97",
   "metadata": {},
   "outputs": [
    {
     "data": {
      "text/plain": [
       "<AxesSubplot:ylabel='BMI'>"
      ]
     },
     "execution_count": 18,
     "metadata": {},
     "output_type": "execute_result"
    },
    {
     "data": {
      "image/png": "[encoded data removed]",
      "text/plain": [
       "<Figure size 432x288 with 1 Axes>"
      ]
     },
     "metadata": {
      "needs_background": "light"
     },
     "output_type": "display_data"
    }
   ],
   "source": [
    "sns.boxplot(y = \"BMI\", data = diabetes)"
   ]
  },
  {
   "cell_type": "markdown",
   "id": "0e655bc1",
   "metadata": {},
   "source": [
    "La variable BMI possède des valeurs aberrantes suivant le boxplot. On constate que ces dernières ont tendance à etre supérieures à 50. Ainsi , on décide de supprimer les valeurs supérieures à 50."
   ]
  },
  {
   "cell_type": "code",
   "execution_count": 19,
   "id": "af9c4bce",
   "metadata": {},
   "outputs": [],
   "source": [
    "diabetes = diabetes[diabetes.BMI<50]"
   ]
  },
  {
   "cell_type": "code",
   "execution_count": 20,
   "id": "22445221",
   "metadata": {},
   "outputs": [
    {
     "data": {
      "text/plain": [
       "count    69574.000000\n",
       "mean        29.406042\n",
       "std          6.074716\n",
       "min         12.000000\n",
       "25%         25.000000\n",
       "50%         28.000000\n",
       "75%         33.000000\n",
       "max         49.000000\n",
       "Name: BMI, dtype: float64"
      ]
     },
     "execution_count": 20,
     "metadata": {},
     "output_type": "execute_result"
    }
   ],
   "source": [
    "diabetes.BMI.describe()"
   ]
  },
  {
   "cell_type": "markdown",
   "id": "26f59562",
   "metadata": {},
   "source": [
    "En refaisant la statistique descriptive de la variable , la moyenne de l'indice de masse corporelle est de 29,41. La valeur minimun est de 12 et la valeur maximun est de 49 . 25% des personnes interrogées ont un IMC inférieur ou égale à 25 et les 75% ont ce dernier qui inférieur ou égal à 33. La moitié des personnes interrogées ont un IMC inférieur ou égal à 28. C'est toujours pareil, les personnes intérrogées sont généralement en situation de surpoids."
   ]
  },
  {
   "cell_type": "markdown",
   "id": "d2dc6cf8",
   "metadata": {},
   "source": [
    "               c_Description des variables qualitatives    "
   ]
  },
  {
   "cell_type": "code",
   "execution_count": 21,
   "id": "29779001",
   "metadata": {},
   "outputs": [],
   "source": [
    "# Statistiques descriptives des variables explicatives qualitatives \n",
    "Age=diabetes.Age.value_counts().to_frame()\n",
    "Sex=diabetes.Sex.value_counts().to_frame()\n",
    "HighChol=diabetes.HighChol.value_counts().to_frame()\n",
    "CholCheck=diabetes.CholCheck.value_counts().to_frame()\n",
    "Smoker=diabetes.Smoker.value_counts().to_frame()\n",
    "HeartDiseaseorAttack=diabetes.HeartDiseaseorAttack.value_counts().to_frame()\n",
    "PhysActivity=diabetes.PhysActivity.value_counts().to_frame()\n",
    "Fruits=diabetes.Fruits.value_counts().to_frame()\n",
    "Veggies=diabetes.Veggies.value_counts().to_frame()\n",
    "HvyAlcoholConsump=diabetes.HvyAlcoholConsump.value_counts().to_frame()\n",
    "GenHlth=diabetes.GenHlth.value_counts().to_frame()\n",
    "MentHlth=diabetes.MentHlth.value_counts().to_frame()\n",
    "PhysHlth=diabetes.PhysHlth.value_counts().to_frame()\n",
    "DiffWalk=diabetes.DiffWalk.value_counts().to_frame()\n",
    "\n",
    "\n"
   ]
  },
  {
   "cell_type": "code",
   "execution_count": 22,
   "id": "ba880ea7",
   "metadata": {},
   "outputs": [
    {
     "name": "stdout",
     "output_type": "stream",
     "text": [
      "       Sex\n",
      "0.0  37643\n",
      "1.0  31931\n",
      "        Age\n",
      "10.0  10699\n",
      "9.0    9920\n",
      "8.0    8433\n",
      "11.0   7986\n",
      "7.0    6708\n",
      "13.0   5411\n",
      "12.0   5373\n",
      "6.0    4533\n",
      "5.0    3434\n",
      "4.0    2731\n",
      "3.0    2002\n",
      "2.0    1370\n",
      "1.0     974\n",
      "     HighChol\n",
      "1.0     36512\n",
      "0.0     33062\n",
      "     CholCheck\n",
      "1.0      67845\n",
      "0.0       1729\n",
      "     Smoker\n",
      "0.0   36466\n",
      "1.0   33108\n",
      "     HeartDiseaseorAttack\n",
      "0.0                 59301\n",
      "1.0                 10273\n",
      "     Fruits\n",
      "1.0   42672\n",
      "0.0   26902\n",
      "     PhysActivity\n",
      "1.0         49206\n",
      "0.0         20368\n",
      "     Veggies\n",
      "1.0    54925\n",
      "0.0    14649\n",
      "     HvyAlcoholConsump\n",
      "0.0              66572\n",
      "1.0               3002\n",
      "     GenHlth\n",
      "3.0    23102\n",
      "2.0    19756\n",
      "4.0    12900\n",
      "1.0     8254\n",
      "5.0     5562\n",
      "      MentHlth\n",
      "0.0      47533\n",
      "30.0      4178\n",
      "2.0       3223\n",
      "5.0       2462\n",
      "1.0       2014\n",
      "3.0       1928\n",
      "10.0      1880\n",
      "15.0      1714\n",
      "20.0      1087\n",
      "4.0        962\n",
      "7.0        808\n",
      "25.0       404\n",
      "14.0       344\n",
      "6.0        278\n",
      "8.0        192\n",
      "12.0       125\n",
      "28.0        95\n",
      "21.0        82\n",
      "29.0        50\n",
      "18.0        40\n",
      "9.0         27\n",
      "16.0        26\n",
      "22.0        21\n",
      "17.0        18\n",
      "27.0        16\n",
      "26.0        15\n",
      "13.0        14\n",
      "23.0        13\n",
      "24.0        10\n",
      "11.0         8\n",
      "19.0         7\n",
      "      PhysHlth\n",
      "0.0      39604\n",
      "30.0      7638\n",
      "2.0       4052\n",
      "1.0       2811\n",
      "3.0       2394\n",
      "5.0       2285\n",
      "10.0      1922\n",
      "15.0      1856\n",
      "4.0       1351\n",
      "7.0       1297\n",
      "20.0      1246\n",
      "14.0       783\n",
      "25.0       532\n",
      "6.0        439\n",
      "8.0        268\n",
      "21.0       224\n",
      "28.0       201\n",
      "12.0       197\n",
      "29.0        92\n",
      "9.0         53\n",
      "18.0        49\n",
      "16.0        48\n",
      "17.0        35\n",
      "27.0        34\n",
      "22.0        30\n",
      "23.0        27\n",
      "26.0        26\n",
      "13.0        26\n",
      "24.0        24\n",
      "11.0        21\n",
      "19.0         9\n",
      "     DiffWalk\n",
      "0.0     52431\n",
      "1.0     17143\n"
     ]
    }
   ],
   "source": [
    "print(Sex) , print(Age)\n",
    "print(HighChol)\n",
    "print(CholCheck)\n",
    "print(Smoker)\n",
    "print(HeartDiseaseorAttack)\n",
    "print(Fruits)\n",
    "print(PhysActivity)\n",
    "print(Veggies)\n",
    "print(HvyAlcoholConsump)\n",
    "print(GenHlth)\n",
    "print(MentHlth)\n",
    "print(PhysHlth)\n",
    "print(DiffWalk)\n"
   ]
  },
  {
   "cell_type": "markdown",
   "id": "b1a9c7c4",
   "metadata": {},
   "source": [
    "Concernant les statistiques descriptives pour les données qualitatives. Pour la variable Sex , Il y'a plus de femmes que d'hommes. Elles sont au nombre de 38.386 alors que les hommes sont au nombre de 32.306. Pour l'age , la majorité des personnes interrogées se trouvent entre 65 et 69 ans (10856). Elle est suivie des personnes agées de 60 à 64 ans au nombre de 10.112 personnes. Les jeunes de 18 à 24 ans sont en minorité (979 personnes). De manière générale , ce sont les personnes agées de 50 ans à 74 ans qui sont les plus nombreuses dans nos observations. On constate aussi que la majorité des personnes fume au moins 100 gigarettes  . Vu qu'on une population assez viellissante , c'est que le nombre de personnes ayant un un fort niveau de cholestérol soit plus nombreux. \n",
    "On utilise le meme procédé pour chaque variable."
   ]
  },
  {
   "cell_type": "code",
   "execution_count": 23,
   "id": "5fc1975b",
   "metadata": {},
   "outputs": [
    {
     "name": "stderr",
     "output_type": "stream",
     "text": [
      "/Users/keitasita/opt/anaconda3/lib/python3.8/site-packages/seaborn/categorical.py:3714: UserWarning: The `factorplot` function has been renamed to `catplot`. The original name will be removed in a future release. Please update your code. Note that the default `kind` in `factorplot` (`'point'`) has changed `'strip'` in `catplot`.\n",
      "  warnings.warn(msg)\n"
     ]
    },
    {
     "data": {
      "text/plain": [
       "<seaborn.axisgrid.FacetGrid at 0x122db1be0>"
      ]
     },
     "execution_count": 23,
     "metadata": {},
     "output_type": "execute_result"
    },
    {
     "data": {
      "image/png": "[encoded data removed]",
      "text/plain": [
       "<Figure size 412x360 with 1 Axes>"
      ]
     },
     "metadata": {
      "needs_background": "light"
     },
     "output_type": "display_data"
    }
   ],
   "source": [
    "sns.factorplot(x = \"Smoker\", hue = \"Sex\", data = diabetes, kind = \"count\")"
   ]
  },
  {
   "cell_type": "markdown",
   "id": "f609fba3",
   "metadata": {},
   "source": [
    "Parmi les fumeurs , ce sont les hommes qui fument un peu plus que les femmes. Dans le groupe des non fumeurs , ce sont les femmes qui ne fument pas. "
   ]
  },
  {
   "cell_type": "markdown",
   "id": "181aa3f5",
   "metadata": {},
   "source": [
    "Vu que des variables explicatives qualitatives peuvent etre dépendantes , nous allons appliquer le test de khi2 pour vérifier la dépendance des variables explicatives qualitatives. En effet , c'est pour éviter un risque de multicolinéarité qui peut pertuber la prédiction de la variable Diabetes. L'hypothèse nulle du test suppose que les variables sont dépenantes et dans l'hypothèse alternative suppose que les variables sont indépendantes. Si la pvalue du test est inféieur à 0,05 alors les variables sont dépendantes."
   ]
  },
  {
   "cell_type": "markdown",
   "id": "775d777f",
   "metadata": {},
   "source": [
    "       d_ Dépendance entre les variables qualitatives"
   ]
  },
  {
   "cell_type": "markdown",
   "id": "066c3871",
   "metadata": {},
   "source": [
    "Test de KHI2"
   ]
  },
  {
   "cell_type": "code",
   "execution_count": 24,
   "id": "849b0990",
   "metadata": {},
   "outputs": [],
   "source": [
    "from scipy.stats import chi2_contingency as chi2_contingency"
   ]
  },
  {
   "cell_type": "code",
   "execution_count": 25,
   "id": "862cd2df",
   "metadata": {},
   "outputs": [],
   "source": [
    "ma_1=pd.crosstab(diabetes[\"Sex\"],diabetes[\"Age\"])\n",
    "ma_2=pd.crosstab(diabetes[\"HighChol\"],diabetes[\"Age\"])\n",
    "ma_3=pd.crosstab(diabetes[\"Smoker\"],diabetes[\"Sex\"])\n",
    "ma_4=pd.crosstab(diabetes[\"HeartDiseaseorAttack\"],diabetes[\"Sex\"])\n",
    "ma_5=pd.crosstab(diabetes[\"PhysActivity\"],diabetes[\"HighChol\"])\n",
    "ma_6=pd.crosstab(diabetes[\"CholCheck\"],diabetes[\"HighChol\"])\n",
    "ma_7=pd.crosstab(diabetes[\"Smoker\"],diabetes[\"CholCheck\"])\n",
    "ma_8=pd.crosstab(diabetes[\"PhysActivity\"],diabetes[\"CholCheck\"])\n",
    "ma_9=pd.crosstab(diabetes[\"Smoker\"],diabetes[\"PhysActivity\"])\n",
    "ma_10=pd.crosstab(diabetes[\"Smoker\"],diabetes[\"HeartDiseaseorAttack\"])\n",
    "ma_11=pd.crosstab(diabetes[\"HeartDiseaseorAttack\"],diabetes[\"PhysActivity\"])\n",
    "ma_12=pd.crosstab(diabetes[\"HeartDiseaseorAttack\"],diabetes[\"Fruits\"])\n",
    "ma_13=pd.crosstab(diabetes[\"PhysActivity\"],diabetes[\"Fruits\"])\n",
    "ma_14=pd.crosstab(diabetes[\"PhysActivity\"],diabetes[\"Veggies\"])\n",
    "ma_15=pd.crosstab(diabetes[\"Fruits\"],diabetes[\"Veggies\"])\n",
    "ma_16=pd.crosstab(diabetes[\"Fruits\"],diabetes[\"HvyAlcoholConsump\"])\n",
    "ma_17=pd.crosstab(diabetes[\"Veggies\"],diabetes[\"HvyAlcoholConsump\"])\n",
    "ma_18=pd.crosstab(diabetes[\"Veggies\"],diabetes[\"GenHlth\"])\n",
    "ma_19=pd.crosstab(diabetes[\"HvyAlcoholConsump\"],diabetes[\"GenHlth\"])\n",
    "ma_20=pd.crosstab(diabetes[\"HvyAlcoholConsump\"],diabetes[\"MentHlth\"])\n",
    "ma_21=pd.crosstab(diabetes[\"GenHlth\"],diabetes[\"MentHlth\"])\n",
    "ma_22=pd.crosstab(diabetes[\"GenHlth\"],diabetes[\"PhysHlth\"])\n",
    "ma_23=pd.crosstab(diabetes[\"MentHlth\"],diabetes[\"PhysHlth\"])\n",
    "ma_24=pd.crosstab(diabetes[\"MentHlth\"],diabetes[\"DiffWalk\"])\n",
    "ma_25=pd.crosstab(diabetes[\"PhysHlth\"],diabetes[\"DiffWalk\"])\n",
    "ma_26=pd.crosstab(diabetes[\"Smoker\"],diabetes[\"DiffWalk\"])"
   ]
  },
  {
   "cell_type": "code",
   "execution_count": 26,
   "id": "1dcc58d2",
   "metadata": {},
   "outputs": [],
   "source": [
    "khi2, pval , ddl , contingent_theorique = chi2_contingency(ma_1)# Dépendance entre les variables Sex et Age (1.6745169584209813e-15)\n",
    "khi2, pval , ddl , contingent_theorique = chi2_contingency(ma_2)# Dépendance entre Age et HighChol (0.0)\n",
    "khi2, pval , ddl , contingent_theorique = chi2_contingency(ma_3)# Dépendance entre les variables Sex et Smoker (3.4416588730482326e-195)\n",
    "khi2, pval , ddl , contingent_theorique = chi2_contingency(ma_4)# Dépendance entre les variables Sex et HeartDiseaseorAttack(4.927057548566815e-150)\n",
    "khi2, pval , ddl , contingent_theorique = chi2_contingency(ma_5)# Dépendance entre les variables PhysActivity et HighChol \n",
    "khi2, pval , ddl , contingent_theorique = chi2_contingency(ma_6)# Dépendance entre les variables CholCheck et HighChol\n",
    "khi2, pval , ddl , contingent_theorique = chi2_contingency(ma_7)# Pas de dépendance entre les variables CholCheck et Smoker (0.25967760421630237)\n",
    "khi2, pval , ddl , contingent_theorique = chi2_contingency(ma_8)# dépendance entre ces variables holCheck et PhysActivity\n",
    "khi2, pval , ddl , contingent_theorique = chi2_contingency(ma_9) #dépendance entre Smoker et PhysActivity\n",
    "khi2, pval , ddl , contingent_theorique = chi2_contingency(ma_10)# dépendance entre Smoker et HeartDiseaseorAttack\n",
    "khi2, pval , ddl , contingent_theorique = chi2_contingency(ma_11)# dépendance entre PhysActivity et HeartDiseaseorAttack\n",
    "khi2, pval , ddl , contingent_theorique = chi2_contingency(ma_12)# dépendance entre Fruits et HeartDiseaseorAttack\n",
    "khi2, pval , ddl , contingent_theorique = chi2_contingency(ma_13)# dépendance entre  PhysActivity et Fruits\n",
    "khi2, pval , ddl , contingent_theorique = chi2_contingency(ma_14)# dépandence entre Veggies et  PhysActivity\n",
    "khi2, pval , ddl , contingent_theorique = chi2_contingency(ma_15)# dépandence entre Fruits et Veggies\n",
    "khi2, pval , ddl , contingent_theorique = chi2_contingency(ma_16)# Dépendance entre les variables Fruits et HvyAlcoholConsump\n",
    "khi2, pval , ddl , contingent_theorique = chi2_contingency(ma_17)#Dépendance entre les variables Veggies et HvyAlcoholConsump\n",
    "khi2, pval , ddl , contingent_theorique = chi2_contingency(ma_18)#Dépendance entre les variables Veggies et GenHlth\n",
    "khi2, pval , ddl , contingent_theorique = chi2_contingency(ma_19)#Dépendance entre les variables HvyAlcoholConsump et GenHlth\n",
    "khi2, pval , ddl , contingent_theorique = chi2_contingency(ma_20)#Dépendance entre les variables HvyAlcoholConsump et MentHlth\n",
    "khi2, pval , ddl , contingent_theorique = chi2_contingency(ma_21)#Dépendance entre les variables GenHlth et MentHlth\n",
    "khi2, pval , ddl , contingent_theorique = chi2_contingency(ma_22)# Dépendance entre les variables GenHlth et PhysHlth\n",
    "khi2, pval , ddl , contingent_theorique = chi2_contingency(ma_23)# Dépendance entre les variables MentHlth  et PhysHlth\n",
    "khi2, pval , ddl , contingent_theorique = chi2_contingency(ma_24)# Dépendance entre les variables MentHlth  et DiffWalk\n",
    "khi2, pval , ddl , contingent_theorique = chi2_contingency(ma_25)# Dépendance entre les variables PhysHlth  et DiffWalk\n",
    "khi2, pval , ddl , contingent_theorique = chi2_contingency(ma_26)# Dépendance entre les variables Smoker et DiffWalk"
   ]
  },
  {
   "cell_type": "code",
   "execution_count": 27,
   "id": "33b39f6f",
   "metadata": {},
   "outputs": [],
   "source": [
    "# Il faut appliquer pour chaque tableau croisée la formule ci_dessous et regarder la pvalue qui est ici pval.\n",
    "#khi2, pval , ddl , contingent_theorique = chi2_contingency()\n",
    "#print(pval)"
   ]
  },
  {
   "cell_type": "markdown",
   "id": "3e7bfe04",
   "metadata": {},
   "source": [
    "Nous constatons que la majorité des variables explicatives qualitatives sont dépendantes entre elle. \n",
    "Dans ce cas , nous allons passer à la suppression de variables. "
   ]
  },
  {
   "cell_type": "code",
   "execution_count": 28,
   "id": "a5b53643",
   "metadata": {},
   "outputs": [],
   "source": [
    "diabetes = diabetes.drop(columns=['Age','Sex','HighChol','HeartDiseaseorAttack','PhysActivity','Fruits','Veggies',\n",
    "                                  'HvyAlcoholConsump','GenHlth','MentHlth','PhysHlth','DiffWalk'], axis=1)"
   ]
  },
  {
   "cell_type": "code",
   "execution_count": 29,
   "id": "06e6b7dd",
   "metadata": {},
   "outputs": [
    {
     "data": {
      "text/html": [
       "<div>\n",
       "<style scoped>\n",
       "    .dataframe tbody tr th:only-of-type {\n",
       "        vertical-align: middle;\n",
       "    }\n",
       "\n",
       "    .dataframe tbody tr th {\n",
       "        vertical-align: top;\n",
       "    }\n",
       "\n",
       "    .dataframe thead th {\n",
       "        text-align: right;\n",
       "    }\n",
       "</style>\n",
       "<table border=\"1\" class=\"dataframe\">\n",
       "  <thead>\n",
       "    <tr style=\"text-align: right;\">\n",
       "      <th></th>\n",
       "      <th>CholCheck</th>\n",
       "      <th>BMI</th>\n",
       "      <th>Smoker</th>\n",
       "      <th>Diabetes</th>\n",
       "    </tr>\n",
       "  </thead>\n",
       "  <tbody>\n",
       "    <tr>\n",
       "      <th>0</th>\n",
       "      <td>1.0</td>\n",
       "      <td>26.0</td>\n",
       "      <td>0.0</td>\n",
       "      <td>0.0</td>\n",
       "    </tr>\n",
       "    <tr>\n",
       "      <th>1</th>\n",
       "      <td>1.0</td>\n",
       "      <td>26.0</td>\n",
       "      <td>1.0</td>\n",
       "      <td>0.0</td>\n",
       "    </tr>\n",
       "    <tr>\n",
       "      <th>2</th>\n",
       "      <td>1.0</td>\n",
       "      <td>26.0</td>\n",
       "      <td>0.0</td>\n",
       "      <td>0.0</td>\n",
       "    </tr>\n",
       "    <tr>\n",
       "      <th>3</th>\n",
       "      <td>1.0</td>\n",
       "      <td>28.0</td>\n",
       "      <td>1.0</td>\n",
       "      <td>0.0</td>\n",
       "    </tr>\n",
       "    <tr>\n",
       "      <th>4</th>\n",
       "      <td>1.0</td>\n",
       "      <td>29.0</td>\n",
       "      <td>1.0</td>\n",
       "      <td>0.0</td>\n",
       "    </tr>\n",
       "    <tr>\n",
       "      <th>...</th>\n",
       "      <td>...</td>\n",
       "      <td>...</td>\n",
       "      <td>...</td>\n",
       "      <td>...</td>\n",
       "    </tr>\n",
       "    <tr>\n",
       "      <th>70687</th>\n",
       "      <td>1.0</td>\n",
       "      <td>37.0</td>\n",
       "      <td>0.0</td>\n",
       "      <td>1.0</td>\n",
       "    </tr>\n",
       "    <tr>\n",
       "      <th>70688</th>\n",
       "      <td>1.0</td>\n",
       "      <td>29.0</td>\n",
       "      <td>1.0</td>\n",
       "      <td>1.0</td>\n",
       "    </tr>\n",
       "    <tr>\n",
       "      <th>70689</th>\n",
       "      <td>1.0</td>\n",
       "      <td>25.0</td>\n",
       "      <td>0.0</td>\n",
       "      <td>1.0</td>\n",
       "    </tr>\n",
       "    <tr>\n",
       "      <th>70690</th>\n",
       "      <td>1.0</td>\n",
       "      <td>18.0</td>\n",
       "      <td>0.0</td>\n",
       "      <td>1.0</td>\n",
       "    </tr>\n",
       "    <tr>\n",
       "      <th>70691</th>\n",
       "      <td>1.0</td>\n",
       "      <td>25.0</td>\n",
       "      <td>0.0</td>\n",
       "      <td>1.0</td>\n",
       "    </tr>\n",
       "  </tbody>\n",
       "</table>\n",
       "<p>69574 rows × 4 columns</p>\n",
       "</div>"
      ],
      "text/plain": [
       "      CholCheck   BMI Smoker Diabetes\n",
       "0           1.0  26.0    0.0      0.0\n",
       "1           1.0  26.0    1.0      0.0\n",
       "2           1.0  26.0    0.0      0.0\n",
       "3           1.0  28.0    1.0      0.0\n",
       "4           1.0  29.0    1.0      0.0\n",
       "...         ...   ...    ...      ...\n",
       "70687       1.0  37.0    0.0      1.0\n",
       "70688       1.0  29.0    1.0      1.0\n",
       "70689       1.0  25.0    0.0      1.0\n",
       "70690       1.0  18.0    0.0      1.0\n",
       "70691       1.0  25.0    0.0      1.0\n",
       "\n",
       "[69574 rows x 4 columns]"
      ]
     },
     "execution_count": 29,
     "metadata": {},
     "output_type": "execute_result"
    }
   ],
   "source": [
    "diabetes# Nous nous retrouvons avec 3 variables explicatives."
   ]
  },
  {
   "cell_type": "markdown",
   "id": "5c27ba90",
   "metadata": {},
   "source": [
    "   3 . PRÉPARATION DE LA BASE DE DONNÉES "
   ]
  },
  {
   "cell_type": "code",
   "execution_count": 30,
   "id": "c715b12e",
   "metadata": {},
   "outputs": [],
   "source": [
    "diabetes['Diabetes']=diabetes.Diabetes.astype('int32')"
   ]
  },
  {
   "cell_type": "code",
   "execution_count": 31,
   "id": "aa8e639a",
   "metadata": {},
   "outputs": [],
   "source": [
    "bin_diabetes = diabetes[diabetes.Diabetes!=2]"
   ]
  },
  {
   "cell_type": "code",
   "execution_count": 32,
   "id": "46be6f95",
   "metadata": {},
   "outputs": [],
   "source": [
    "X_train , X_test, y_train, y_test = train_test_split(bin_diabetes.iloc[:,:3],  \n",
    "                                                    bin_diabetes['Diabetes'], \n",
    "                                                    test_size=0.30 ,\n",
    "                                                    shuffle=True ,\n",
    "                                                    random_state=42\n",
    "                                                   )"
   ]
  },
  {
   "cell_type": "code",
   "execution_count": 33,
   "id": "190a5609",
   "metadata": {},
   "outputs": [
    {
     "name": "stdout",
     "output_type": "stream",
     "text": [
      "(48701, 3)\n",
      "(20873, 3)\n",
      "(48701,)\n",
      "(20873,)\n"
     ]
    }
   ],
   "source": [
    "print(X_train.shape)\n",
    "print(X_test.shape)\n",
    "print(y_train.shape)\n",
    "print(y_test.shape)"
   ]
  },
  {
   "cell_type": "code",
   "execution_count": 34,
   "id": "3300ad99",
   "metadata": {},
   "outputs": [
    {
     "data": {
      "text/plain": [
       "StandardScaler()"
      ]
     },
     "execution_count": 34,
     "metadata": {},
     "output_type": "execute_result"
    }
   ],
   "source": [
    "scaler = StandardScaler()\n",
    "scaler.fit(X_train)\n"
   ]
  },
  {
   "cell_type": "code",
   "execution_count": 35,
   "id": "1838349b",
   "metadata": {},
   "outputs": [],
   "source": [
    "X_train_sc = scaler.transform(X_train)\n",
    "X_test_sc = scaler.transform(X_test)"
   ]
  },
  {
   "cell_type": "markdown",
   "id": "98d47568",
   "metadata": {},
   "source": [
    "  4. LES DIFFÉRENTES MÉTHODES POUR PRÉDIRE LA VARIABLES DIABÈTES"
   ]
  },
  {
   "cell_type": "code",
   "execution_count": 36,
   "id": "7c91ab85",
   "metadata": {},
   "outputs": [
    {
     "data": {
      "text/plain": [
       "LogisticRegression(random_state=42)"
      ]
     },
     "execution_count": 36,
     "metadata": {},
     "output_type": "execute_result"
    }
   ],
   "source": [
    "#Regression logistique\n",
    "lgr = LogisticRegression( random_state=42)\n",
    "lgr.fit(X_train_sc, y_train)"
   ]
  },
  {
   "cell_type": "code",
   "execution_count": 37,
   "id": "60741728",
   "metadata": {},
   "outputs": [
    {
     "data": {
      "text/plain": [
       "<AxesSubplot:title={'center':'Confusion matrix'}, xlabel='Predicted label', ylabel='True label'>"
      ]
     },
     "execution_count": 37,
     "metadata": {},
     "output_type": "execute_result"
    },
    {
     "data": {
      "image/png": "[encoded data removed]",
      "text/plain": [
       "<Figure size 432x288 with 2 Axes>"
      ]
     },
     "metadata": {
      "needs_background": "light"
     },
     "output_type": "display_data"
    }
   ],
   "source": [
    "plot.confusion_matrix(lgr.predict(X_test_sc), y_test)"
   ]
  },
  {
   "cell_type": "code",
   "execution_count": 38,
   "id": "83136d7f",
   "metadata": {},
   "outputs": [
    {
     "name": "stdout",
     "output_type": "stream",
     "text": [
      "              precision    recall  f1-score   support\n",
      "\n",
      "           0       0.64      0.68      0.66     10458\n",
      "           1       0.66      0.61      0.63     10415\n",
      "\n",
      "    accuracy                           0.64     20873\n",
      "   macro avg       0.65      0.64      0.64     20873\n",
      "weighted avg       0.65      0.64      0.64     20873\n",
      "\n"
     ]
    }
   ],
   "source": [
    "print(classification_report(y_test,lgr.predict(X_test_sc)))"
   ]
  },
  {
   "cell_type": "markdown",
   "id": "b6ed1be0",
   "metadata": {},
   "source": [
    "Suivant la matrice de confusion du modèle logistique , la prédiction ecxate du  nombre de personnes n'ayant pas le diabète est de 7144 .Celle de ceux qui ont le diabète est de 6312 . Ce qui nous donne un accuracy de 65%. Ce qui veut dire que le modèle logistique prédit correctement à la variable Diabetes à 64%. "
   ]
  },
  {
   "cell_type": "code",
   "execution_count": 39,
   "id": "5cda0bd3",
   "metadata": {},
   "outputs": [
    {
     "data": {
      "text/plain": [
       "LinearSVC(max_iter=2000, random_state=40)"
      ]
     },
     "execution_count": 39,
     "metadata": {},
     "output_type": "execute_result"
    }
   ],
   "source": [
    "#Linear SVM\n",
    "l_SVC = LinearSVC(random_state=40, max_iter=2000)\n",
    "l_SVC.fit(X_train_sc, y_train)"
   ]
  },
  {
   "cell_type": "code",
   "execution_count": 40,
   "id": "c74b3e79",
   "metadata": {},
   "outputs": [
    {
     "data": {
      "text/plain": [
       "<AxesSubplot:title={'center':'Confusion matrix'}, xlabel='Predicted label', ylabel='True label'>"
      ]
     },
     "execution_count": 40,
     "metadata": {},
     "output_type": "execute_result"
    },
    {
     "data": {
      "image/png": "[encoded data removed]",
      "text/plain": [
       "<Figure size 432x288 with 2 Axes>"
      ]
     },
     "metadata": {
      "needs_background": "light"
     },
     "output_type": "display_data"
    }
   ],
   "source": [
    "plot.confusion_matrix(l_SVC.predict(X_test_sc), y_test)"
   ]
  },
  {
   "cell_type": "code",
   "execution_count": 41,
   "id": "d9fa488c",
   "metadata": {},
   "outputs": [
    {
     "name": "stdout",
     "output_type": "stream",
     "text": [
      "              precision    recall  f1-score   support\n",
      "\n",
      "           0       0.64      0.68      0.66     10458\n",
      "           1       0.66      0.61      0.63     10415\n",
      "\n",
      "    accuracy                           0.64     20873\n",
      "   macro avg       0.65      0.64      0.64     20873\n",
      "weighted avg       0.65      0.64      0.64     20873\n",
      "\n"
     ]
    }
   ],
   "source": [
    "print(classification_report(y_test,l_SVC.predict(X_test_sc)))"
   ]
  },
  {
   "cell_type": "markdown",
   "id": "30104dc4",
   "metadata": {},
   "source": [
    "Pour le modèle Linear SVC , On obtient la matrice de confusion.La prédiction ecxate du  nombre de personnes n'ayant pas le diabète est de 7142 .Celle de ceux qui ont le diabète est de 6315 . Ce qui nous donne un accuracy de 64%. Ce qui veut dire que le modèle LinearSVM prédit correctement à la variable Diabetes à 64%. "
   ]
  },
  {
   "cell_type": "code",
   "execution_count": 42,
   "id": "fb97381e",
   "metadata": {},
   "outputs": [
    {
     "data": {
      "text/plain": [
       "SVC(kernel='linear', random_state=42)"
      ]
     },
     "execution_count": 42,
     "metadata": {},
     "output_type": "execute_result"
    }
   ],
   "source": [
    "#SVM avec kernel\n",
    "svc = SVC(kernel='linear',random_state=42)\n",
    "svc.fit(X_train_sc,y_train)\n",
    "\n"
   ]
  },
  {
   "cell_type": "code",
   "execution_count": 43,
   "id": "785f8a7d",
   "metadata": {},
   "outputs": [
    {
     "data": {
      "text/plain": [
       "<AxesSubplot:title={'center':'Confusion matrix'}, xlabel='Predicted label', ylabel='True label'>"
      ]
     },
     "execution_count": 43,
     "metadata": {},
     "output_type": "execute_result"
    },
    {
     "data": {
      "image/png": "[encoded data removed]",
      "text/plain": [
       "<Figure size 432x288 with 2 Axes>"
      ]
     },
     "metadata": {
      "needs_background": "light"
     },
     "output_type": "display_data"
    }
   ],
   "source": [
    "plot.confusion_matrix(svc.predict(X_test_sc), y_test)"
   ]
  },
  {
   "cell_type": "code",
   "execution_count": 44,
   "id": "5917593f",
   "metadata": {},
   "outputs": [
    {
     "name": "stdout",
     "output_type": "stream",
     "text": [
      "              precision    recall  f1-score   support\n",
      "\n",
      "           0       0.64      0.68      0.66     10458\n",
      "           1       0.66      0.61      0.63     10415\n",
      "\n",
      "    accuracy                           0.64     20873\n",
      "   macro avg       0.65      0.64      0.64     20873\n",
      "weighted avg       0.65      0.64      0.64     20873\n",
      "\n"
     ]
    }
   ],
   "source": [
    "print(classification_report(y_test,svc.predict(X_test_sc)))"
   ]
  },
  {
   "cell_type": "markdown",
   "id": "064eb8b3",
   "metadata": {},
   "source": [
    "Pour le modèle SVC avec le noyau linéaire , la prédiction ecxate du nombre de personnes n'ayant pas le diabète est de 7139 .Celle de ceux qui ont le diabète est de 6324 . Ce qui nous donne un accuracy de 64%. Ce qui veut dire que le modèle SVC avec le noyau linéaire prédit correctement à la variable Diabetes à 64%"
   ]
  },
  {
   "cell_type": "code",
   "execution_count": 45,
   "id": "3f3ccd96",
   "metadata": {},
   "outputs": [
    {
     "data": {
      "text/plain": [
       "SGDClassifier(random_state=42)"
      ]
     },
     "execution_count": 45,
     "metadata": {},
     "output_type": "execute_result"
    }
   ],
   "source": [
    "#SGD classifier\n",
    "sgdc_svm = SGDClassifier(loss='hinge' ,random_state=42)\n",
    "sgdc_svm.fit(X_train_sc, y_train)"
   ]
  },
  {
   "cell_type": "code",
   "execution_count": 46,
   "id": "ce0585e1",
   "metadata": {},
   "outputs": [
    {
     "data": {
      "text/plain": [
       "<AxesSubplot:title={'center':'Confusion matrix'}, xlabel='Predicted label', ylabel='True label'>"
      ]
     },
     "execution_count": 46,
     "metadata": {},
     "output_type": "execute_result"
    },
    {
     "data": {
      "image/png": "[encoded data removed]",
      "text/plain": [
       "<Figure size 432x288 with 2 Axes>"
      ]
     },
     "metadata": {
      "needs_background": "light"
     },
     "output_type": "display_data"
    }
   ],
   "source": [
    "plot.confusion_matrix(sgdc_svm.predict(X_test_sc), y_test)"
   ]
  },
  {
   "cell_type": "code",
   "execution_count": 47,
   "id": "3517ea2d",
   "metadata": {},
   "outputs": [
    {
     "name": "stdout",
     "output_type": "stream",
     "text": [
      "              precision    recall  f1-score   support\n",
      "\n",
      "           0       0.64      0.68      0.66     10458\n",
      "           1       0.66      0.61      0.63     10415\n",
      "\n",
      "    accuracy                           0.64     20873\n",
      "   macro avg       0.65      0.64      0.64     20873\n",
      "weighted avg       0.65      0.64      0.64     20873\n",
      "\n"
     ]
    }
   ],
   "source": [
    "print(classification_report(y_test,sgdc_svm.predict(X_test_sc)))"
   ]
  },
  {
   "cell_type": "markdown",
   "id": "b0beb96d",
   "metadata": {},
   "source": [
    "Pour le modèle SGDClassifier, la prédiction ecxate du nombre de personnes n'ayant pas le diabète est de 7144. .Celle de ceux qui ont le diabète est de 6312 . Ce qui nous donne un accuracy de 64%. Ce qui veut dire que le modèle SGDClassifier prédit correctement à la variable Diabetes à 64%"
   ]
  },
  {
   "cell_type": "markdown",
   "id": "1b1cf687",
   "metadata": {},
   "source": [
    "Nous nous retrouvons avec les 4 modèles SVM qui ont des accracy égaux . Ceci n'est pas encore suffisant. Pour faire notre choix de modèle , nous allons regarder l'évolution des accuracy_scores en fonction de folds."
   ]
  },
  {
   "cell_type": "code",
   "execution_count": 48,
   "id": "3ebfa350",
   "metadata": {},
   "outputs": [],
   "source": [
    "\n",
    "cvs_lgr = cross_val_score(lgr, X_train_sc, y_train, cv=5, scoring='accuracy')\n",
    "\n",
    "cvs_lsvc = cross_val_score(l_SVC, X_train_sc, y_train, cv=5, scoring='accuracy')\n",
    "\n",
    "cvs_svc = cross_val_score(svc, X_train_sc, y_train, cv=5, scoring='accuracy')\n",
    "\n",
    "cvs_sgdc = cross_val_score(sgdc_svm, X_train_sc, y_train, cv=5, scoring='accuracy')"
   ]
  },
  {
   "cell_type": "code",
   "execution_count": 49,
   "id": "4422a27e",
   "metadata": {},
   "outputs": [],
   "source": [
    "#Get data output from cross_val_score\n",
    "df_cross = pd.DataFrame(np.transpose(np.c_[cvs_lgr,cvs_lsvc,cvs_sgdc,cvs_svc]), \n",
    "                        columns=['fold1','fold2','fold3','fold4','fold5'])\n",
    "#Adding model label\n",
    "df_cross['model'] = ['lgr','lsvc','sgdc','svc']"
   ]
  },
  {
   "cell_type": "code",
   "execution_count": 50,
   "id": "752f989a",
   "metadata": {},
   "outputs": [
    {
     "data": {
      "image/png": "[encoded data removed]",
      "text/plain": [
       "<Figure size 432x288 with 1 Axes>"
      ]
     },
     "metadata": {
      "needs_background": "light"
     },
     "output_type": "display_data"
    }
   ],
   "source": [
    "#Regardons l'évolution des scores pour chaque fold\n",
    "for row in range(df_cross.shape[0]):\n",
    "    plt.plot( df_cross.iloc[row,0:4] ,label='Line '+str(df_cross.iloc[row,5]))\n",
    "\n",
    "plt.legend()\n",
    "plt.title(\"Evolution de l'accuracy en fonction des folds\")\n",
    "plt.show()"
   ]
  },
  {
   "cell_type": "code",
   "execution_count": 51,
   "id": "282d5486",
   "metadata": {},
   "outputs": [
    {
     "data": {
      "text/html": [
       "<div>\n",
       "<style scoped>\n",
       "    .dataframe tbody tr th:only-of-type {\n",
       "        vertical-align: middle;\n",
       "    }\n",
       "\n",
       "    .dataframe tbody tr th {\n",
       "        vertical-align: top;\n",
       "    }\n",
       "\n",
       "    .dataframe thead th {\n",
       "        text-align: right;\n",
       "    }\n",
       "</style>\n",
       "<table border=\"1\" class=\"dataframe\">\n",
       "  <thead>\n",
       "    <tr style=\"text-align: right;\">\n",
       "      <th></th>\n",
       "      <th>fold1</th>\n",
       "      <th>fold2</th>\n",
       "      <th>fold3</th>\n",
       "      <th>fold4</th>\n",
       "      <th>fold5</th>\n",
       "      <th>model</th>\n",
       "    </tr>\n",
       "  </thead>\n",
       "  <tbody>\n",
       "    <tr>\n",
       "      <th>0</th>\n",
       "      <td>0.643055</td>\n",
       "      <td>0.651437</td>\n",
       "      <td>0.647741</td>\n",
       "      <td>0.641170</td>\n",
       "      <td>0.642402</td>\n",
       "      <td>lgr</td>\n",
       "    </tr>\n",
       "    <tr>\n",
       "      <th>1</th>\n",
       "      <td>0.642952</td>\n",
       "      <td>0.651232</td>\n",
       "      <td>0.647639</td>\n",
       "      <td>0.640760</td>\n",
       "      <td>0.642300</td>\n",
       "      <td>lsvc</td>\n",
       "    </tr>\n",
       "    <tr>\n",
       "      <th>2</th>\n",
       "      <td>0.627348</td>\n",
       "      <td>0.650000</td>\n",
       "      <td>0.648871</td>\n",
       "      <td>0.640452</td>\n",
       "      <td>0.633060</td>\n",
       "      <td>sgdc</td>\n",
       "    </tr>\n",
       "    <tr>\n",
       "      <th>3</th>\n",
       "      <td>0.642850</td>\n",
       "      <td>0.650103</td>\n",
       "      <td>0.645380</td>\n",
       "      <td>0.638604</td>\n",
       "      <td>0.636242</td>\n",
       "      <td>svc</td>\n",
       "    </tr>\n",
       "  </tbody>\n",
       "</table>\n",
       "</div>"
      ],
      "text/plain": [
       "      fold1     fold2     fold3     fold4     fold5 model\n",
       "0  0.643055  0.651437  0.647741  0.641170  0.642402   lgr\n",
       "1  0.642952  0.651232  0.647639  0.640760  0.642300  lsvc\n",
       "2  0.627348  0.650000  0.648871  0.640452  0.633060  sgdc\n",
       "3  0.642850  0.650103  0.645380  0.638604  0.636242   svc"
      ]
     },
     "execution_count": 51,
     "metadata": {},
     "output_type": "execute_result"
    }
   ],
   "source": [
    "df_cross.head(5)"
   ]
  },
  {
   "cell_type": "code",
   "execution_count": 52,
   "id": "e35f922f",
   "metadata": {},
   "outputs": [
    {
     "name": "stdout",
     "output_type": "stream",
     "text": [
      "Le modèle N° 0 a une accuracy de 0.6451613335702708 et un std : 0.004301729518709277\n",
      "Le modèle N° 1 a une accuracy de 0.6449765307501243 et un std : 0.004337651749826241\n",
      "Le modèle N° 2 a une accuracy de 0.6399460503424739 et un std : 0.009837588023342076\n",
      "Le modèle N° 3 a une accuracy de 0.6426356704351113 et un std : 0.0054878183996219685\n"
     ]
    }
   ],
   "source": [
    "for i in range(4):\n",
    "\n",
    "    mean_model = df_cross.iloc[:,0:5].mean(axis=1)[i]\n",
    "    std_model = df_cross.iloc[:,0:5].std(axis=1)[i]\n",
    "    \n",
    "    print('Le modèle N° '+ str(i) + ' a une accuracy de '  + str(mean_model) + ' et un std : ' + str(std_model))"
   ]
  },
  {
   "cell_type": "markdown",
   "id": "adeabda6",
   "metadata": {},
   "source": [
    "#CHOIX DU MODÈLE\n",
    "\n",
    "On constate que les méthodes ont le meme taux de bonnes prédictions qui est de 64%. Cependant nous choisissons le modèle logistique car ve dernier possède la plus grande accuracy et aussi il a le plus petit std qui de 0,00430. Comparé aux autres modèles , il a moins de chances de faire un surraprentissage. Nous voulions appliquer l'agorithme Gridsearch pour améliorer notre modèle. Malheureusement , nous pouvons pas appliquer l'algorithme sur notre ordinateur. Donc nous allons passer à l'analyse du modèle choisi. "
   ]
  },
  {
   "cell_type": "markdown",
   "id": "d357abe8",
   "metadata": {},
   "source": [
    "5 . Analyse du modèle choisi"
   ]
  },
  {
   "cell_type": "code",
   "execution_count": 53,
   "id": "f0cbf3c2",
   "metadata": {},
   "outputs": [
    {
     "name": "stdout",
     "output_type": "stream",
     "text": [
      "Training score: 0.6451612903225806 \n",
      " Test score: 0.6446605662817995\n"
     ]
    }
   ],
   "source": [
    "print('Training score: ' + str(lgr.score(X_train_sc,y_train)), \n",
    "      '\\n',\n",
    "      'Test score: ' + str(lgr.score(X_test_sc, y_test))\n",
    "     )"
   ]
  },
  {
   "cell_type": "markdown",
   "id": "70122039",
   "metadata": {},
   "source": [
    "Nous ne risquons pas d'avoir du surapprentissage puisque la moyenne de accurancy ou score de l'entrainement et celui du test sont quasiment pareils."
   ]
  },
  {
   "cell_type": "code",
   "execution_count": 54,
   "id": "a40b1367",
   "metadata": {},
   "outputs": [
    {
     "data": {
      "text/plain": [
       "array([[0.28, 0.7 , 0.18]])"
      ]
     },
     "execution_count": 54,
     "metadata": {},
     "output_type": "execute_result"
    }
   ],
   "source": [
    "lgr.coef_"
   ]
  },
  {
   "cell_type": "markdown",
   "id": "8bb816c7",
   "metadata": {},
   "source": [
    "Nous avons les coefficients des variables explicatives qui ont servies à l'établissement du modèle. On peut que chacune des variables explicatives possède une relation positive avec la variable à prédire Diabetes. 0,28 est le coefficient de la variable CholCheck , 0,70 estle coefficient de la variable BMI et 0,18 est le coefficient de la variable Smoker. "
   ]
  }
 ],
 "metadata": {
  "kernelspec": {
   "display_name": "Python 3",
   "language": "python",
   "name": "python3"
  },
  "language_info": {
   "codemirror_mode": {
    "name": "ipython",
    "version": 3
   },
   "file_extension": ".py",
   "mimetype": "text/x-python",
   "name": "python",
   "nbconvert_exporter": "python",
   "pygments_lexer": "ipython3",
   "version": "3.8.2"
  }
 },
 "nbformat": 4,
 "nbformat_minor": 5
}
